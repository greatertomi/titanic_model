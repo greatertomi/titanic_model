{
 "cells": [
  {
   "cell_type": "code",
   "execution_count": 1,
   "outputs": [],
   "source": [
    "import re\n",
    "\n",
    "# to handle datasets\n",
    "import pandas as pd\n",
    "import numpy as np\n",
    "\n",
    "# for visualization\n",
    "import matplotlib.pyplot as plt\n",
    "\n",
    "# to divide train and test set\n",
    "from sklearn.model_selection import train_test_split\n",
    "\n",
    "# feature scaling\n",
    "from sklearn.preprocessing import StandardScaler\n",
    "\n",
    "# to build the models\n",
    "from sklearn.linear_model import LogisticRegression\n",
    "\n",
    "# to evaluate the models\n",
    "from sklearn.metrics import accuracy_score, roc_auc_score\n",
    "\n",
    "# to persist the model and the scaler\n",
    "import joblib\n",
    "\n",
    "# to visualise al the columns in the dataframe\n",
    "pd.pandas.set_option('display.max_columns', None)"
   ],
   "metadata": {
    "collapsed": false,
    "pycharm": {
     "name": "#%%\n"
    }
   }
  },
  {
   "cell_type": "code",
   "execution_count": 2,
   "outputs": [
    {
     "data": {
      "text/plain": "   pclass  survived                                             name     sex  \\\n0       1         1                    Allen, Miss. Elisabeth Walton  female   \n1       1         1                   Allison, Master. Hudson Trevor    male   \n2       1         0                     Allison, Miss. Helen Loraine  female   \n3       1         0             Allison, Mr. Hudson Joshua Creighton    male   \n4       1         0  Allison, Mrs. Hudson J C (Bessie Waldo Daniels)  female   \n\n      age  sibsp  parch  ticket      fare    cabin embarked boat body  \\\n0      29      0      0   24160  211.3375       B5        S    2    ?   \n1  0.9167      1      2  113781    151.55  C22 C26        S   11    ?   \n2       2      1      2  113781    151.55  C22 C26        S    ?    ?   \n3      30      1      2  113781    151.55  C22 C26        S    ?  135   \n4      25      1      2  113781    151.55  C22 C26        S    ?    ?   \n\n                         home.dest  \n0                     St Louis, MO  \n1  Montreal, PQ / Chesterville, ON  \n2  Montreal, PQ / Chesterville, ON  \n3  Montreal, PQ / Chesterville, ON  \n4  Montreal, PQ / Chesterville, ON  ",
      "text/html": "<div>\n<style scoped>\n    .dataframe tbody tr th:only-of-type {\n        vertical-align: middle;\n    }\n\n    .dataframe tbody tr th {\n        vertical-align: top;\n    }\n\n    .dataframe thead th {\n        text-align: right;\n    }\n</style>\n<table border=\"1\" class=\"dataframe\">\n  <thead>\n    <tr style=\"text-align: right;\">\n      <th></th>\n      <th>pclass</th>\n      <th>survived</th>\n      <th>name</th>\n      <th>sex</th>\n      <th>age</th>\n      <th>sibsp</th>\n      <th>parch</th>\n      <th>ticket</th>\n      <th>fare</th>\n      <th>cabin</th>\n      <th>embarked</th>\n      <th>boat</th>\n      <th>body</th>\n      <th>home.dest</th>\n    </tr>\n  </thead>\n  <tbody>\n    <tr>\n      <th>0</th>\n      <td>1</td>\n      <td>1</td>\n      <td>Allen, Miss. Elisabeth Walton</td>\n      <td>female</td>\n      <td>29</td>\n      <td>0</td>\n      <td>0</td>\n      <td>24160</td>\n      <td>211.3375</td>\n      <td>B5</td>\n      <td>S</td>\n      <td>2</td>\n      <td>?</td>\n      <td>St Louis, MO</td>\n    </tr>\n    <tr>\n      <th>1</th>\n      <td>1</td>\n      <td>1</td>\n      <td>Allison, Master. Hudson Trevor</td>\n      <td>male</td>\n      <td>0.9167</td>\n      <td>1</td>\n      <td>2</td>\n      <td>113781</td>\n      <td>151.55</td>\n      <td>C22 C26</td>\n      <td>S</td>\n      <td>11</td>\n      <td>?</td>\n      <td>Montreal, PQ / Chesterville, ON</td>\n    </tr>\n    <tr>\n      <th>2</th>\n      <td>1</td>\n      <td>0</td>\n      <td>Allison, Miss. Helen Loraine</td>\n      <td>female</td>\n      <td>2</td>\n      <td>1</td>\n      <td>2</td>\n      <td>113781</td>\n      <td>151.55</td>\n      <td>C22 C26</td>\n      <td>S</td>\n      <td>?</td>\n      <td>?</td>\n      <td>Montreal, PQ / Chesterville, ON</td>\n    </tr>\n    <tr>\n      <th>3</th>\n      <td>1</td>\n      <td>0</td>\n      <td>Allison, Mr. Hudson Joshua Creighton</td>\n      <td>male</td>\n      <td>30</td>\n      <td>1</td>\n      <td>2</td>\n      <td>113781</td>\n      <td>151.55</td>\n      <td>C22 C26</td>\n      <td>S</td>\n      <td>?</td>\n      <td>135</td>\n      <td>Montreal, PQ / Chesterville, ON</td>\n    </tr>\n    <tr>\n      <th>4</th>\n      <td>1</td>\n      <td>0</td>\n      <td>Allison, Mrs. Hudson J C (Bessie Waldo Daniels)</td>\n      <td>female</td>\n      <td>25</td>\n      <td>1</td>\n      <td>2</td>\n      <td>113781</td>\n      <td>151.55</td>\n      <td>C22 C26</td>\n      <td>S</td>\n      <td>?</td>\n      <td>?</td>\n      <td>Montreal, PQ / Chesterville, ON</td>\n    </tr>\n  </tbody>\n</table>\n</div>"
     },
     "execution_count": 2,
     "metadata": {},
     "output_type": "execute_result"
    }
   ],
   "source": [
    "data = pd.read_csv('./dataset/titanic.csv')\n",
    "\n",
    "data.head()"
   ],
   "metadata": {
    "collapsed": false,
    "pycharm": {
     "name": "#%%\n"
    }
   }
  },
  {
   "cell_type": "code",
   "execution_count": 3,
   "outputs": [],
   "source": [
    "# replace interrogation marks by NaN values\n",
    "\n",
    "data = data.replace('?', np.nan)"
   ],
   "metadata": {
    "collapsed": false,
    "pycharm": {
     "name": "#%%\n"
    }
   }
  },
  {
   "cell_type": "code",
   "execution_count": 4,
   "outputs": [],
   "source": [
    "# retain only the first cabin if more than 1 are available per passenger\n",
    "\n",
    "def get_first_cabin(row):\n",
    "    try:\n",
    "        return row.split()[0]\n",
    "    except:\n",
    "        return np.nan\n",
    "\n",
    "data['cabin'] = data['cabin'].apply(get_first_cabin)"
   ],
   "metadata": {
    "collapsed": false,
    "pycharm": {
     "name": "#%%\n"
    }
   }
  },
  {
   "cell_type": "code",
   "execution_count": 5,
   "outputs": [],
   "source": [
    "# extracts the title (Mr, Ms, etc) from the name variable\n",
    "\n",
    "def get_title(passenger):\n",
    "    line = passenger\n",
    "    if re.search('Mrs', line):\n",
    "        return 'Mrs'\n",
    "    elif re.search('Mr', line):\n",
    "        return 'Mr'\n",
    "    elif re.search('Miss', line):\n",
    "        return 'Miss'\n",
    "    elif re.search('Master', line):\n",
    "        return 'Master'\n",
    "    else:\n",
    "        return 'Other'\n",
    "\n",
    "data['title'] = data['name'].apply(get_title)"
   ],
   "metadata": {
    "collapsed": false,
    "pycharm": {
     "name": "#%%\n"
    }
   }
  },
  {
   "cell_type": "code",
   "execution_count": 6,
   "outputs": [],
   "source": [
    "# cast numerical variables as floats\n",
    "\n",
    "data['fare'] = data['fare'].astype('float')\n",
    "data['age'] = data['age'].astype('float')"
   ],
   "metadata": {
    "collapsed": false,
    "pycharm": {
     "name": "#%%\n"
    }
   }
  },
  {
   "cell_type": "code",
   "execution_count": 7,
   "outputs": [
    {
     "data": {
      "text/plain": "   pclass  survived     sex      age  sibsp  parch      fare cabin embarked  \\\n0       1         1  female  29.0000      0      0  211.3375    B5        S   \n1       1         1    male   0.9167      1      2  151.5500   C22        S   \n2       1         0  female   2.0000      1      2  151.5500   C22        S   \n3       1         0    male  30.0000      1      2  151.5500   C22        S   \n4       1         0  female  25.0000      1      2  151.5500   C22        S   \n\n    title  \n0    Miss  \n1  Master  \n2    Miss  \n3      Mr  \n4     Mrs  ",
      "text/html": "<div>\n<style scoped>\n    .dataframe tbody tr th:only-of-type {\n        vertical-align: middle;\n    }\n\n    .dataframe tbody tr th {\n        vertical-align: top;\n    }\n\n    .dataframe thead th {\n        text-align: right;\n    }\n</style>\n<table border=\"1\" class=\"dataframe\">\n  <thead>\n    <tr style=\"text-align: right;\">\n      <th></th>\n      <th>pclass</th>\n      <th>survived</th>\n      <th>sex</th>\n      <th>age</th>\n      <th>sibsp</th>\n      <th>parch</th>\n      <th>fare</th>\n      <th>cabin</th>\n      <th>embarked</th>\n      <th>title</th>\n    </tr>\n  </thead>\n  <tbody>\n    <tr>\n      <th>0</th>\n      <td>1</td>\n      <td>1</td>\n      <td>female</td>\n      <td>29.0000</td>\n      <td>0</td>\n      <td>0</td>\n      <td>211.3375</td>\n      <td>B5</td>\n      <td>S</td>\n      <td>Miss</td>\n    </tr>\n    <tr>\n      <th>1</th>\n      <td>1</td>\n      <td>1</td>\n      <td>male</td>\n      <td>0.9167</td>\n      <td>1</td>\n      <td>2</td>\n      <td>151.5500</td>\n      <td>C22</td>\n      <td>S</td>\n      <td>Master</td>\n    </tr>\n    <tr>\n      <th>2</th>\n      <td>1</td>\n      <td>0</td>\n      <td>female</td>\n      <td>2.0000</td>\n      <td>1</td>\n      <td>2</td>\n      <td>151.5500</td>\n      <td>C22</td>\n      <td>S</td>\n      <td>Miss</td>\n    </tr>\n    <tr>\n      <th>3</th>\n      <td>1</td>\n      <td>0</td>\n      <td>male</td>\n      <td>30.0000</td>\n      <td>1</td>\n      <td>2</td>\n      <td>151.5500</td>\n      <td>C22</td>\n      <td>S</td>\n      <td>Mr</td>\n    </tr>\n    <tr>\n      <th>4</th>\n      <td>1</td>\n      <td>0</td>\n      <td>female</td>\n      <td>25.0000</td>\n      <td>1</td>\n      <td>2</td>\n      <td>151.5500</td>\n      <td>C22</td>\n      <td>S</td>\n      <td>Mrs</td>\n    </tr>\n  </tbody>\n</table>\n</div>"
     },
     "execution_count": 7,
     "metadata": {},
     "output_type": "execute_result"
    }
   ],
   "source": [
    "# drop unnecessary variables\n",
    "\n",
    "data.drop(labels=['name', 'ticket', 'boat', 'body', 'home.dest'], axis=1, inplace=True)\n",
    "\n",
    "data.head()"
   ],
   "metadata": {
    "collapsed": false,
    "pycharm": {
     "name": "#%%\n"
    }
   }
  },
  {
   "cell_type": "markdown",
   "source": [
    "## Data Exploration"
   ],
   "metadata": {
    "collapsed": false,
    "pycharm": {
     "name": "#%% md\n"
    }
   }
  },
  {
   "cell_type": "code",
   "execution_count": 8,
   "outputs": [],
   "source": [
    "target = 'survived'"
   ],
   "metadata": {
    "collapsed": false,
    "pycharm": {
     "name": "#%%\n"
    }
   }
  },
  {
   "cell_type": "code",
   "execution_count": 9,
   "outputs": [
    {
     "name": "stdout",
     "output_type": "stream",
     "text": [
      "Number of numerical variables: 5\n",
      "Number of categorical variables: 4\n"
     ]
    }
   ],
   "source": [
    "vars_num = [c for c in data.columns if data[c].dtypes!='O' and c!=target]\n",
    "vars_cat = [c for c in data.columns if data[c].dtypes=='O']\n",
    "print('Number of numerical variables: {}'.format(len(vars_num)))\n",
    "print('Number of categorical variables: {}'.format(len(vars_cat)))"
   ],
   "metadata": {
    "collapsed": false,
    "pycharm": {
     "name": "#%%\n"
    }
   }
  },
  {
   "cell_type": "code",
   "execution_count": 10,
   "outputs": [
    {
     "data": {
      "text/plain": "['sex', 'cabin', 'embarked', 'title']"
     },
     "execution_count": 10,
     "metadata": {},
     "output_type": "execute_result"
    }
   ],
   "source": [
    "vars_cat"
   ],
   "metadata": {
    "collapsed": false,
    "pycharm": {
     "name": "#%%\n"
    }
   }
  },
  {
   "cell_type": "code",
   "execution_count": 11,
   "outputs": [
    {
     "data": {
      "text/plain": "['pclass', 'age', 'sibsp', 'parch', 'fare']"
     },
     "execution_count": 11,
     "metadata": {},
     "output_type": "execute_result"
    }
   ],
   "source": [
    "vars_num"
   ],
   "metadata": {
    "collapsed": false,
    "pycharm": {
     "name": "#%%\n"
    }
   }
  },
  {
   "cell_type": "code",
   "execution_count": 12,
   "outputs": [
    {
     "data": {
      "text/plain": "cabin       0.774637\nembarked    0.001528\nsex         0.000000\ntitle       0.000000\ndtype: float64"
     },
     "execution_count": 12,
     "metadata": {},
     "output_type": "execute_result"
    }
   ],
   "source": [
    "# Find categorical variables with missing values\n",
    "\n",
    "data[vars_cat].isnull().mean().sort_values(ascending=False)"
   ],
   "metadata": {
    "collapsed": false,
    "pycharm": {
     "name": "#%%\n"
    }
   }
  },
  {
   "cell_type": "code",
   "execution_count": 13,
   "outputs": [
    {
     "data": {
      "text/plain": "age       0.200917\nfare      0.000764\npclass    0.000000\nsibsp     0.000000\nparch     0.000000\ndtype: float64"
     },
     "execution_count": 13,
     "metadata": {},
     "output_type": "execute_result"
    }
   ],
   "source": [
    "data[vars_num].isnull().mean().sort_values(ascending=False)"
   ],
   "metadata": {
    "collapsed": false,
    "pycharm": {
     "name": "#%%\n"
    }
   }
  },
  {
   "cell_type": "code",
   "execution_count": 14,
   "outputs": [
    {
     "data": {
      "text/plain": "sex           2\ncabin       181\nembarked      3\ntitle         5\ndtype: int64"
     },
     "execution_count": 14,
     "metadata": {},
     "output_type": "execute_result"
    }
   ],
   "source": [
    "# Determine cardinality of categorical variables\n",
    "data[vars_cat].nunique()"
   ],
   "metadata": {
    "collapsed": false,
    "pycharm": {
     "name": "#%%\n"
    }
   }
  },
  {
   "cell_type": "code",
   "execution_count": 15,
   "outputs": [
    {
     "data": {
      "text/plain": "<Figure size 720x720 with 6 Axes>",
      "image/png": "[encoded data removed]"
     },
     "metadata": {
      "needs_background": "light"
     },
     "output_type": "display_data"
    }
   ],
   "source": [
    "# Determine the distribution of numerical variables\n",
    "data[vars_num].hist(bins=30, figsize=(10,10))\n",
    "plt.show()"
   ],
   "metadata": {
    "collapsed": false,
    "pycharm": {
     "name": "#%%\n"
    }
   }
  },
  {
   "cell_type": "code",
   "execution_count": 16,
   "outputs": [
    {
     "data": {
      "text/plain": "((1047, 9), (262, 9))"
     },
     "execution_count": 16,
     "metadata": {},
     "output_type": "execute_result"
    }
   ],
   "source": [
    "X_train, X_test, y_train, y_test = train_test_split(\n",
    "    data.drop('survived', axis=1),  # predictors\n",
    "    data['survived'],  # target\n",
    "    test_size=0.2,  # percentage of obs in test set\n",
    "    random_state=0)  # seed to ensure reproducibility\n",
    "\n",
    "X_train.shape, X_test.shape"
   ],
   "metadata": {
    "collapsed": false,
    "pycharm": {
     "name": "#%%\n"
    }
   }
  },
  {
   "cell_type": "markdown",
   "source": [
    "# Feature Engineering"
   ],
   "metadata": {
    "collapsed": false,
    "pycharm": {
     "name": "#%% md\n"
    }
   }
  },
  {
   "cell_type": "code",
   "execution_count": 17,
   "outputs": [
    {
     "data": {
      "text/plain": "array([nan, 'E', 'F', 'A', 'C', 'D', 'B', 'T', 'G'], dtype=object)"
     },
     "execution_count": 17,
     "metadata": {},
     "output_type": "execute_result"
    }
   ],
   "source": [
    "X_train['cabin'] = X_train['cabin'].str[0]\n",
    "X_test['cabin'] = X_test['cabin'].str[0]\n",
    "\n",
    "X_train['cabin'].unique()"
   ],
   "metadata": {
    "collapsed": false,
    "pycharm": {
     "name": "#%%\n"
    }
   }
  },
  {
   "cell_type": "code",
   "execution_count": 18,
   "outputs": [
    {
     "name": "stdout",
     "output_type": "stream",
     "text": [
      "age 28.0\n",
      "fare 14.4542\n"
     ]
    },
    {
     "data": {
      "text/plain": "age     0\nfare    0\ndtype: int64"
     },
     "execution_count": 18,
     "metadata": {},
     "output_type": "execute_result"
    }
   ],
   "source": [
    "# replace the missing values in numerical values\n",
    "\n",
    "for var in ['age', 'fare']:\n",
    "    median_val = X_train[var].median()\n",
    "    print(var, median_val)\n",
    "\n",
    "    # add binary missing indicator (in train and test)\n",
    "    X_train[var + '_na'] = np.where(X_train[var].isnull(), 1, 0)\n",
    "    X_test[var + '_na'] = np.where(X_test[var].isnull(), 1, 0)\n",
    "\n",
    "    # replace missing values by the median (in train and test)\n",
    "    X_train[var].fillna(median_val, inplace=True)\n",
    "    X_test[var].fillna(median_val, inplace=True)\n",
    "\n",
    "# check that we have no more missing values in the engineered variables\n",
    "X_train[['age', 'fare']].isnull().sum()"
   ],
   "metadata": {
    "collapsed": false,
    "pycharm": {
     "name": "#%%\n"
    }
   }
  },
  {
   "cell_type": "code",
   "execution_count": 19,
   "outputs": [],
   "source": [
    "with_string_missing = ['cabin', 'embarked']\n",
    "\n",
    "X_train[with_string_missing] = X_train[with_string_missing].fillna('Missing')\n",
    "X_test[with_string_missing] = X_test[with_string_missing].fillna('Missing')"
   ],
   "metadata": {
    "collapsed": false,
    "pycharm": {
     "name": "#%%\n"
    }
   }
  },
  {
   "cell_type": "code",
   "execution_count": 20,
   "outputs": [
    {
     "data": {
      "text/plain": "pclass      0\nsex         0\nage         0\nsibsp       0\nparch       0\nfare        0\ncabin       0\nembarked    0\ntitle       0\nage_na      0\nfare_na     0\ndtype: int64"
     },
     "execution_count": 20,
     "metadata": {},
     "output_type": "execute_result"
    }
   ],
   "source": [
    "X_train.isnull().sum()"
   ],
   "metadata": {
    "collapsed": false,
    "pycharm": {
     "name": "#%%\n"
    }
   }
  },
  {
   "cell_type": "code",
   "execution_count": 21,
   "outputs": [],
   "source": [
    "# Remove Rare label\n",
    "\n",
    "def find_frequent_labels(df, var, rare_perc):\n",
    "    df = df.copy()\n",
    "    tmp = df.groupby(var)[var].count() / len(df)\n",
    "    return tmp[tmp > rare_perc].index\n",
    "\n",
    "for var in vars_cat:\n",
    "    frequent_ls = find_frequent_labels(X_train, var, 0.05)\n",
    "    X_train[var] = np.where(X_train[var].isin(frequent_ls), X_train[var], 'Rare')\n",
    "    X_test[var] = np.where(X_test[var].isin(frequent_ls), X_test[var], 'Rare')"
   ],
   "metadata": {
    "collapsed": false,
    "pycharm": {
     "name": "#%%\n"
    }
   }
  },
  {
   "cell_type": "code",
   "execution_count": 22,
   "outputs": [
    {
     "data": {
      "text/plain": "sex         2\ncabin       3\nembarked    4\ntitle       4\ndtype: int64"
     },
     "execution_count": 22,
     "metadata": {},
     "output_type": "execute_result"
    }
   ],
   "source": [
    "X_train[vars_cat].nunique()"
   ],
   "metadata": {
    "collapsed": false,
    "pycharm": {
     "name": "#%%\n"
    }
   }
  },
  {
   "cell_type": "code",
   "execution_count": 23,
   "outputs": [],
   "source": [
    "# One hot encoding\n",
    "def replace_categories(train, test, y_train, var, target):\n",
    "    tmp = pd.concat([X_train, y_train], axis=1)\n",
    "    ordered_labels = tmp.groupby([var])[target].mean().sort_values().index\n",
    "    ordinal_label = {k:i for i, k in enumerate(ordered_labels, 0)}\n",
    "\n",
    "    print(var, ordinal_label)\n",
    "    print()\n",
    "\n",
    "    train[var] = train[var].map(ordinal_label)\n",
    "    test[var] = test[var].map(ordinal_label)"
   ],
   "metadata": {
    "collapsed": false,
    "pycharm": {
     "name": "#%%\n"
    }
   }
  },
  {
   "cell_type": "code",
   "execution_count": 24,
   "outputs": [
    {
     "name": "stdout",
     "output_type": "stream",
     "text": [
      "sex {'male': 0, 'female': 1}\n",
      "\n",
      "cabin {'Missing': 0, 'C': 1, 'Rare': 2}\n",
      "\n",
      "embarked {'S': 0, 'Q': 1, 'C': 2, 'Rare': 3}\n",
      "\n",
      "title {'Mr': 0, 'Rare': 1, 'Miss': 2, 'Mrs': 3}\n",
      "\n"
     ]
    }
   ],
   "source": [
    "for var in vars_cat:\n",
    "    replace_categories(X_train, X_test, y_train, var, target)"
   ],
   "metadata": {
    "collapsed": false,
    "pycharm": {
     "name": "#%%\n"
    }
   }
  },
  {
   "cell_type": "code",
   "execution_count": 26,
   "outputs": [],
   "source": [
    "scaler = StandardScaler()\n",
    "scaler.fit(X_train)\n",
    "\n",
    "X_train = pd.DataFrame(scaler.transform(X_train), columns=X_train.columns)\n",
    "X_test = pd.DataFrame(scaler.transform(X_test), columns=X_train.columns)"
   ],
   "metadata": {
    "collapsed": false,
    "pycharm": {
     "name": "#%%\n"
    }
   }
  },
  {
   "cell_type": "code",
   "execution_count": 27,
   "outputs": [
    {
     "data": {
      "text/plain": "     pclass       sex       age     sibsp     parch      fare     cabin  \\\n0  0.835808 -0.761042 -0.370162 -0.478911 -0.455423 -0.504782 -0.525480   \n1 -1.542157  1.313987  0.904029 -0.478911 -0.455423  1.971555  2.158311   \n2  0.835808 -0.761042 -0.131251 -0.478911 -0.455423 -0.508533 -0.525480   \n3  0.835808  1.313987 -0.927621 -0.478911 -0.455423 -0.507717 -0.525480   \n4 -0.353174 -0.761042 -0.051614  0.434422 -0.455423 -0.248980 -0.525480   \n\n   embarked     title    age_na  fare_na  \n0 -0.606358 -0.801644 -0.494921 -0.03092  \n1  1.868716  0.885434 -0.494921 -0.03092  \n2  0.631179 -0.801644  2.020526 -0.03092  \n3 -0.606358  0.885434 -0.494921 -0.03092  \n4 -0.606358 -0.801644 -0.494921 -0.03092  ",
      "text/html": "<div>\n<style scoped>\n    .dataframe tbody tr th:only-of-type {\n        vertical-align: middle;\n    }\n\n    .dataframe tbody tr th {\n        vertical-align: top;\n    }\n\n    .dataframe thead th {\n        text-align: right;\n    }\n</style>\n<table border=\"1\" class=\"dataframe\">\n  <thead>\n    <tr style=\"text-align: right;\">\n      <th></th>\n      <th>pclass</th>\n      <th>sex</th>\n      <th>age</th>\n      <th>sibsp</th>\n      <th>parch</th>\n      <th>fare</th>\n      <th>cabin</th>\n      <th>embarked</th>\n      <th>title</th>\n      <th>age_na</th>\n      <th>fare_na</th>\n    </tr>\n  </thead>\n  <tbody>\n    <tr>\n      <th>0</th>\n      <td>0.835808</td>\n      <td>-0.761042</td>\n      <td>-0.370162</td>\n      <td>-0.478911</td>\n      <td>-0.455423</td>\n      <td>-0.504782</td>\n      <td>-0.525480</td>\n      <td>-0.606358</td>\n      <td>-0.801644</td>\n      <td>-0.494921</td>\n      <td>-0.03092</td>\n    </tr>\n    <tr>\n      <th>1</th>\n      <td>-1.542157</td>\n      <td>1.313987</td>\n      <td>0.904029</td>\n      <td>-0.478911</td>\n      <td>-0.455423</td>\n      <td>1.971555</td>\n      <td>2.158311</td>\n      <td>1.868716</td>\n      <td>0.885434</td>\n      <td>-0.494921</td>\n      <td>-0.03092</td>\n    </tr>\n    <tr>\n      <th>2</th>\n      <td>0.835808</td>\n      <td>-0.761042</td>\n      <td>-0.131251</td>\n      <td>-0.478911</td>\n      <td>-0.455423</td>\n      <td>-0.508533</td>\n      <td>-0.525480</td>\n      <td>0.631179</td>\n      <td>-0.801644</td>\n      <td>2.020526</td>\n      <td>-0.03092</td>\n    </tr>\n    <tr>\n      <th>3</th>\n      <td>0.835808</td>\n      <td>1.313987</td>\n      <td>-0.927621</td>\n      <td>-0.478911</td>\n      <td>-0.455423</td>\n      <td>-0.507717</td>\n      <td>-0.525480</td>\n      <td>-0.606358</td>\n      <td>0.885434</td>\n      <td>-0.494921</td>\n      <td>-0.03092</td>\n    </tr>\n    <tr>\n      <th>4</th>\n      <td>-0.353174</td>\n      <td>-0.761042</td>\n      <td>-0.051614</td>\n      <td>0.434422</td>\n      <td>-0.455423</td>\n      <td>-0.248980</td>\n      <td>-0.525480</td>\n      <td>-0.606358</td>\n      <td>-0.801644</td>\n      <td>-0.494921</td>\n      <td>-0.03092</td>\n    </tr>\n  </tbody>\n</table>\n</div>"
     },
     "execution_count": 27,
     "metadata": {},
     "output_type": "execute_result"
    }
   ],
   "source": [
    "X_train.head()"
   ],
   "metadata": {
    "collapsed": false,
    "pycharm": {
     "name": "#%%\n"
    }
   }
  },
  {
   "cell_type": "code",
   "execution_count": 28,
   "outputs": [
    {
     "data": {
      "text/plain": "LogisticRegression(random_state=4)",
      "text/html": "<style>#sk-container-id-1 {color: black;background-color: white;}#sk-container-id-1 pre{padding: 0;}#sk-container-id-1 div.sk-toggleable {background-color: white;}#sk-container-id-1 label.sk-toggleable__label {cursor: pointer;display: block;width: 100%;margin-bottom: 0;padding: 0.3em;box-sizing: border-box;text-align: center;}#sk-container-id-1 label.sk-toggleable__label-arrow:before {content: \"▸\";float: left;margin-right: 0.25em;color: #696969;}#sk-container-id-1 label.sk-toggleable__label-arrow:hover:before {color: black;}#sk-container-id-1 div.sk-estimator:hover label.sk-toggleable__label-arrow:before {color: black;}#sk-container-id-1 div.sk-toggleable__content {max-height: 0;max-width: 0;overflow: hidden;text-align: left;background-color: #f0f8ff;}#sk-container-id-1 div.sk-toggleable__content pre {margin: 0.2em;color: black;border-radius: 0.25em;background-color: #f0f8ff;}#sk-container-id-1 input.sk-toggleable__control:checked~div.sk-toggleable__content {max-height: 200px;max-width: 100%;overflow: auto;}#sk-container-id-1 input.sk-toggleable__control:checked~label.sk-toggleable__label-arrow:before {content: \"▾\";}#sk-container-id-1 div.sk-estimator input.sk-toggleable__control:checked~label.sk-toggleable__label {background-color: #d4ebff;}#sk-container-id-1 div.sk-label input.sk-toggleable__control:checked~label.sk-toggleable__label {background-color: #d4ebff;}#sk-container-id-1 input.sk-hidden--visually {border: 0;clip: rect(1px 1px 1px 1px);clip: rect(1px, 1px, 1px, 1px);height: 1px;margin: -1px;overflow: hidden;padding: 0;position: absolute;width: 1px;}#sk-container-id-1 div.sk-estimator {font-family: monospace;background-color: #f0f8ff;border: 1px dotted black;border-radius: 0.25em;box-sizing: border-box;margin-bottom: 0.5em;}#sk-container-id-1 div.sk-estimator:hover {background-color: #d4ebff;}#sk-container-id-1 div.sk-parallel-item::after {content: \"\";width: 100%;border-bottom: 1px solid gray;flex-grow: 1;}#sk-container-id-1 div.sk-label:hover label.sk-toggleable__label {background-color: #d4ebff;}#sk-container-id-1 div.sk-serial::before {content: \"\";position: absolute;border-left: 1px solid gray;box-sizing: border-box;top: 0;bottom: 0;left: 50%;z-index: 0;}#sk-container-id-1 div.sk-serial {display: flex;flex-direction: column;align-items: center;background-color: white;padding-right: 0.2em;padding-left: 0.2em;position: relative;}#sk-container-id-1 div.sk-item {position: relative;z-index: 1;}#sk-container-id-1 div.sk-parallel {display: flex;align-items: stretch;justify-content: center;background-color: white;position: relative;}#sk-container-id-1 div.sk-item::before, #sk-container-id-1 div.sk-parallel-item::before {content: \"\";position: absolute;border-left: 1px solid gray;box-sizing: border-box;top: 0;bottom: 0;left: 50%;z-index: -1;}#sk-container-id-1 div.sk-parallel-item {display: flex;flex-direction: column;z-index: 1;position: relative;background-color: white;}#sk-container-id-1 div.sk-parallel-item:first-child::after {align-self: flex-end;width: 50%;}#sk-container-id-1 div.sk-parallel-item:last-child::after {align-self: flex-start;width: 50%;}#sk-container-id-1 div.sk-parallel-item:only-child::after {width: 0;}#sk-container-id-1 div.sk-dashed-wrapped {border: 1px dashed gray;margin: 0 0.4em 0.5em 0.4em;box-sizing: border-box;padding-bottom: 0.4em;background-color: white;}#sk-container-id-1 div.sk-label label {font-family: monospace;font-weight: bold;display: inline-block;line-height: 1.2em;}#sk-container-id-1 div.sk-label-container {text-align: center;}#sk-container-id-1 div.sk-container {/* jupyter's `normalize.less` sets `[hidden] { display: none; }` but bootstrap.min.css set `[hidden] { display: none !important; }` so we also need the `!important` here to be able to override the default hidden behavior on the sphinx rendered scikit-learn.org. See: https://github.com/scikit-learn/scikit-learn/issues/21755 */display: inline-block !important;position: relative;}#sk-container-id-1 div.sk-text-repr-fallback {display: none;}</style><div id=\"sk-container-id-1\" class=\"sk-top-container\"><div class=\"sk-text-repr-fallback\"><pre>LogisticRegression(random_state=4)</pre><b>In a Jupyter environment, please rerun this cell to show the HTML representation or trust the notebook. <br />On GitHub, the HTML representation is unable to render, please try loading this page with nbviewer.org.</b></div><div class=\"sk-container\" hidden><div class=\"sk-item\"><div class=\"sk-estimator sk-toggleable\"><input class=\"sk-toggleable__control sk-hidden--visually\" id=\"sk-estimator-id-1\" type=\"checkbox\" checked><label for=\"sk-estimator-id-1\" class=\"sk-toggleable__label sk-toggleable__label-arrow\">LogisticRegression</label><div class=\"sk-toggleable__content\"><pre>LogisticRegression(random_state=4)</pre></div></div></div></div></div>"
     },
     "execution_count": 28,
     "metadata": {},
     "output_type": "execute_result"
    }
   ],
   "source": [
    "model = LogisticRegression(random_state=4)\n",
    "\n",
    "model.fit(X_train, y_train)"
   ],
   "metadata": {
    "collapsed": false,
    "pycharm": {
     "name": "#%%\n"
    }
   }
  },
  {
   "cell_type": "code",
   "execution_count": 30,
   "outputs": [
    {
     "name": "stdout",
     "output_type": "stream",
     "text": [
      "train roc-auc: 0.856904945904173\n",
      "train accuracy: 0.8051575931232091\n"
     ]
    }
   ],
   "source": [
    "class_ = model.predict(X_train)\n",
    "pred = model.predict_proba(X_train)[:,1]\n",
    "\n",
    "# determine mse and rmse\n",
    "print('train roc-auc: {}'.format(roc_auc_score(y_train, pred)))\n",
    "print('train accuracy: {}'.format(accuracy_score(y_train, class_)))"
   ],
   "metadata": {
    "collapsed": false,
    "pycharm": {
     "name": "#%%\n"
    }
   }
  },
  {
   "cell_type": "code",
   "execution_count": 31,
   "outputs": [
    {
     "name": "stdout",
     "output_type": "stream",
     "text": [
      "test roc-auc: 0.8555246913580248\n",
      "test accuracy: 0.7977099236641222\n"
     ]
    }
   ],
   "source": [
    "# make predictions for test set\n",
    "class_ = model.predict(X_test)\n",
    "pred = model.predict_proba(X_test)[:,1]\n",
    "\n",
    "# determine mse and rmse\n",
    "print('test roc-auc: {}'.format(roc_auc_score(y_test, pred)))\n",
    "print('test accuracy: {}'.format(accuracy_score(y_test, class_)))"
   ],
   "metadata": {
    "collapsed": false,
    "pycharm": {
     "name": "#%%\n"
    }
   }
  },
  {
   "cell_type": "code",
   "execution_count": null,
   "outputs": [],
   "source": [],
   "metadata": {
    "collapsed": false,
    "pycharm": {
     "name": "#%%\n"
    }
   }
  }
 ],
 "metadata": {
  "kernelspec": {
   "display_name": "Python 3",
   "language": "python",
   "name": "python3"
  },
  "language_info": {
   "codemirror_mode": {
    "name": "ipython",
    "version": 2
   },
   "file_extension": ".py",
   "mimetype": "text/x-python",
   "name": "python",
   "nbconvert_exporter": "python",
   "pygments_lexer": "ipython2",
   "version": "2.7.6"
  }
 },
 "nbformat": 4,
 "nbformat_minor": 0
}